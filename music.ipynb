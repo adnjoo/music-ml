{
 "cells": [
  {
   "cell_type": "code",
   "execution_count": 1,
   "id": "a6ebb4d9",
   "metadata": {},
   "outputs": [
    {
     "data": {
      "text/plain": [
       "array(['HipHop'], dtype=object)"
      ]
     },
     "execution_count": 1,
     "metadata": {},
     "output_type": "execute_result"
    }
   ],
   "source": [
    "import pandas as pd\n",
    "from sklearn.tree import DecisionTreeClassifier\n",
    "import sklearn.externals\n",
    "import joblib\n",
    "from sklearn import tree\n",
    "\n",
    "music = pd.read_csv('music.csv')\n",
    "# # input\n",
    "X = music.drop(columns=['genre'])\n",
    "# # output\n",
    "y= music['genre']\n",
    "\n",
    "model = DecisionTreeClassifier()\n",
    "model.fit(X,y)\n",
    "\n",
    "# visualization\n",
    "# tree.export_graphviz(model, out_file='music.dot', \n",
    "#                      feature_names=['age','gender'],\n",
    "#                      class_names=sorted(y.unique()),\n",
    "#                      label='all',\n",
    "#                      rounded=True,\n",
    "#                      filled=True)\n",
    "\n",
    "# Create persistent model\n",
    "# joblib.dump(model,'music.joblib')\n",
    "# Load persisten model\n",
    "# model = joblib.load('music.joblib')\n",
    "\n",
    "predictions = model.predict([[21,1]])\n",
    "predictions\n",
    "\n",
    "# https://www.youtube.com/watch?v=7eh4d6sabA0 MOSH"
   ]
  },
  {
   "cell_type": "code",
   "execution_count": null,
   "id": "2807ae48",
   "metadata": {},
   "outputs": [],
   "source": []
  },
  {
   "cell_type": "code",
   "execution_count": null,
   "id": "13fa6e28",
   "metadata": {},
   "outputs": [],
   "source": []
  }
 ],
 "metadata": {
  "kernelspec": {
   "display_name": "Python 3 (ipykernel)",
   "language": "python",
   "name": "python3"
  },
  "language_info": {
   "codemirror_mode": {
    "name": "ipython",
    "version": 3
   },
   "file_extension": ".py",
   "mimetype": "text/x-python",
   "name": "python",
   "nbconvert_exporter": "python",
   "pygments_lexer": "ipython3",
   "version": "3.9.7"
  }
 },
 "nbformat": 4,
 "nbformat_minor": 5
}
